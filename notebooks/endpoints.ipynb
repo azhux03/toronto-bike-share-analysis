{
 "cells": [
  {
   "cell_type": "code",
   "execution_count": 1,
   "id": "435b3a5a-43eb-4877-9215-6089d96b596e",
   "metadata": {},
   "outputs": [
    {
     "data": {
      "text/plain": [
       "True"
      ]
     },
     "execution_count": 1,
     "metadata": {},
     "output_type": "execute_result"
    }
   ],
   "source": [
    "import requests\n",
    "\n",
    "base_url = \"https://ckan0.cf.opendata.inter.prod-toronto.ca/api/3/action\"\n",
    "\n",
    "package_url = base_url + \"/package_show\"\n",
    "params = {\"id\": \"bike-share-toronto\"}\n",
    "package = requests.get(package_url, params=params).json()\n",
    "\n",
    "package[\"success\"]"
   ]
  },
  {
   "cell_type": "code",
   "execution_count": 2,
   "id": "317f4001-e309-4a1d-bc9a-432437b3221a",
   "metadata": {},
   "outputs": [
    {
     "data": {
      "text/plain": [
       "'active'"
      ]
     },
     "execution_count": 2,
     "metadata": {},
     "output_type": "execute_result"
    }
   ],
   "source": [
    "package[\"result\"][\"state\"]"
   ]
  },
  {
   "cell_type": "code",
   "execution_count": 3,
   "id": "5355a7b6-a34e-4d73-816c-657a9fa0d4f1",
   "metadata": {},
   "outputs": [
    {
     "data": {
      "text/plain": [
       "[{'cache_last_updated': None,\n",
       "  'cache_url': None,\n",
       "  'created': '2019-07-23T16:40:17.467193',\n",
       "  'datastore_active': False,\n",
       "  'format': 'JSON',\n",
       "  'hash': '',\n",
       "  'id': '5c1c2c06-d27f-47b7-ae82-926a6d23d76f',\n",
       "  'is_datastore_cache_file': False,\n",
       "  'is_preview': False,\n",
       "  'last_modified': '2019-07-23T16:40:17.427058',\n",
       "  'metadata_modified': '2022-03-10T16:24:04.865406',\n",
       "  'mimetype': 'application/json',\n",
       "  'mimetype_inner': None,\n",
       "  'name': 'bike-share-json',\n",
       "  'package_id': '2b44db0d-eea9-442d-b038-79335368ad5a',\n",
       "  'position': 0,\n",
       "  'resource_type': None,\n",
       "  'revision_id': 'e19f02c5-3513-46df-a4f6-375e4e530133',\n",
       "  'size': 577,\n",
       "  'state': 'active',\n",
       "  'url': 'https://ckan0.cf.opendata.inter.prod-toronto.ca/dataset/2b44db0d-eea9-442d-b038-79335368ad5a/resource/5c1c2c06-d27f-47b7-ae82-926a6d23d76f/download/bike-share-json.json',\n",
       "  'url_type': 'upload'},\n",
       " {'cache_last_updated': None,\n",
       "  'cache_url': None,\n",
       "  'created': '2019-07-23T16:40:18.280959',\n",
       "  'datastore_active': False,\n",
       "  'format': 'JSON',\n",
       "  'hash': '',\n",
       "  'id': 'b69873a1-c180-4ccd-a970-514e434b4971',\n",
       "  'is_datastore_cache_file': False,\n",
       "  'is_preview': False,\n",
       "  'last_modified': '2019-07-23T16:40:18.215372',\n",
       "  'metadata_modified': '2022-03-10T16:24:06.148332',\n",
       "  'mimetype': 'application/json',\n",
       "  'mimetype_inner': None,\n",
       "  'name': 'bike-share-gbfs-general-bikeshare-feed-specification',\n",
       "  'package_id': '2b44db0d-eea9-442d-b038-79335368ad5a',\n",
       "  'position': 1,\n",
       "  'resource_type': None,\n",
       "  'revision_id': 'e19f02c5-3513-46df-a4f6-375e4e530133',\n",
       "  'size': 577,\n",
       "  'state': 'active',\n",
       "  'url': 'https://ckan0.cf.opendata.inter.prod-toronto.ca/dataset/2b44db0d-eea9-442d-b038-79335368ad5a/resource/b69873a1-c180-4ccd-a970-514e434b4971/download/bike-share-gbfs-general-bikeshare-feed-specification.json',\n",
       "  'url_type': 'upload'},\n",
       " {'cache_last_updated': None,\n",
       "  'cache_url': None,\n",
       "  'created': '2019-07-23T16:40:19.138864',\n",
       "  'datastore_active': False,\n",
       "  'format': 'WEB',\n",
       "  'hash': '',\n",
       "  'id': '2eb37596-96a7-4379-b334-a47a396e9ac3',\n",
       "  'is_datastore_cache_file': False,\n",
       "  'is_preview': True,\n",
       "  'last_modified': '2019-07-23T16:40:19.084648',\n",
       "  'metadata_modified': '2022-03-10T16:24:06.601572',\n",
       "  'mimetype': 'application/json',\n",
       "  'mimetype_inner': None,\n",
       "  'name': 'gbfs-documentation',\n",
       "  'package_id': '2b44db0d-eea9-442d-b038-79335368ad5a',\n",
       "  'position': 2,\n",
       "  'resource_type': None,\n",
       "  'revision_id': '54d4b35d-985a-4a2a-9fc6-cf96a15d870e',\n",
       "  'size': 116702,\n",
       "  'state': 'active',\n",
       "  'url': 'https://github.com/NABSA/gbfs',\n",
       "  'url_type': ''},\n",
       " {'cache_last_updated': None,\n",
       "  'cache_url': None,\n",
       "  'created': '2019-07-23T16:40:19.981837',\n",
       "  'datastore_active': False,\n",
       "  'format': 'TXT',\n",
       "  'hash': '',\n",
       "  'id': '5ee32dcb-3f4d-4dfe-a3ad-e27f2c13b5a3',\n",
       "  'is_datastore_cache_file': False,\n",
       "  'is_preview': False,\n",
       "  'last_modified': '2019-07-23T16:40:19.920680',\n",
       "  'metadata_modified': '2022-03-10T16:24:08.013740',\n",
       "  'mimetype': 'text/plain',\n",
       "  'mimetype_inner': None,\n",
       "  'name': 'bike-share-stations-readme',\n",
       "  'package_id': '2b44db0d-eea9-442d-b038-79335368ad5a',\n",
       "  'position': 3,\n",
       "  'resource_type': None,\n",
       "  'revision_id': 'e19f02c5-3513-46df-a4f6-375e4e530133',\n",
       "  'size': 1701,\n",
       "  'state': 'active',\n",
       "  'url': 'https://ckan0.cf.opendata.inter.prod-toronto.ca/dataset/2b44db0d-eea9-442d-b038-79335368ad5a/resource/5ee32dcb-3f4d-4dfe-a3ad-e27f2c13b5a3/download/bike-share-stations-readme.txt',\n",
       "  'url_type': 'upload'}]"
      ]
     },
     "execution_count": 3,
     "metadata": {},
     "output_type": "execute_result"
    }
   ],
   "source": [
    "package[\"result\"][\"resources\"]"
   ]
  },
  {
   "cell_type": "code",
   "execution_count": 4,
   "id": "6cd293d0-2455-44e6-93b8-b45baf2bea5f",
   "metadata": {},
   "outputs": [
    {
     "data": {
      "text/plain": [
       "False"
      ]
     },
     "execution_count": 4,
     "metadata": {},
     "output_type": "execute_result"
    }
   ],
   "source": [
    "resource = package[\"result\"][\"resources\"][0]\n",
    "resource[\"datastore_active\"]"
   ]
  },
  {
   "cell_type": "code",
   "execution_count": 5,
   "id": "17cd8bdd-08a6-4ed8-ac2f-2fb4808cf76a",
   "metadata": {},
   "outputs": [
    {
     "data": {
      "text/plain": [
       "{'help': 'https://ckan0.cf.opendata.inter.prod-toronto.ca/api/3/action/help_show?name=resource_show',\n",
       " 'success': True,\n",
       " 'result': {'cache_last_updated': None,\n",
       "  'cache_url': None,\n",
       "  'created': '2019-07-23T16:40:17.467193',\n",
       "  'datastore_active': False,\n",
       "  'format': 'JSON',\n",
       "  'hash': '',\n",
       "  'id': '5c1c2c06-d27f-47b7-ae82-926a6d23d76f',\n",
       "  'is_datastore_cache_file': False,\n",
       "  'is_preview': False,\n",
       "  'last_modified': '2019-07-23T16:40:17.427058',\n",
       "  'metadata_modified': '2022-03-10T16:24:04.865406',\n",
       "  'mimetype': 'application/json',\n",
       "  'mimetype_inner': None,\n",
       "  'name': 'bike-share-json',\n",
       "  'package_id': '2b44db0d-eea9-442d-b038-79335368ad5a',\n",
       "  'position': 0,\n",
       "  'resource_type': None,\n",
       "  'revision_id': 'e19f02c5-3513-46df-a4f6-375e4e530133',\n",
       "  'size': 577,\n",
       "  'state': 'active',\n",
       "  'url': 'https://ckan0.cf.opendata.inter.prod-toronto.ca/dataset/2b44db0d-eea9-442d-b038-79335368ad5a/resource/5c1c2c06-d27f-47b7-ae82-926a6d23d76f/download/bike-share-json.json',\n",
       "  'url_type': 'upload'}}"
      ]
     },
     "execution_count": 5,
     "metadata": {},
     "output_type": "execute_result"
    }
   ],
   "source": [
    "resource_url = base_url + \"/resource_show?id=\" + resource[\"id\"]\n",
    "resource_metadata = requests.get(resource_url).json()\n",
    "resource_metadata"
   ]
  },
  {
   "cell_type": "code",
   "execution_count": 6,
   "id": "a4cf3840-7f5f-492b-ac46-7a453569db17",
   "metadata": {},
   "outputs": [
    {
     "data": {
      "text/plain": [
       "{'last_updated': 1563373889,\n",
       " 'ttl': 24,\n",
       " 'data': {'en': {'feeds': [{'name': 'system regions',\n",
       "     'url': 'https://tor.publicbikesystem.net/ube/gbfs/v1/en/system_regions'},\n",
       "    {'name': 'system_information',\n",
       "     'url': 'https://tor.publicbikesystem.net/ube/gbfs/v1/en/system_information'},\n",
       "    {'name': 'station_information',\n",
       "     'url': 'https://tor.publicbikesystem.net/ube/gbfs/v1/en/station_information'},\n",
       "    {'name': 'station_status',\n",
       "     'url': 'https://tor.publicbikesystem.net/ube/gbfs/v1/en/station_status'},\n",
       "    {'name': 'system_pricing_plans',\n",
       "     'url': 'https://tor.publicbikesystem.net/ube/gbfs/v1/en/system_pricing_plans'}]}}}"
      ]
     },
     "execution_count": 6,
     "metadata": {},
     "output_type": "execute_result"
    }
   ],
   "source": [
    "endpoints = requests.get(resource_metadata[\"result\"][\"url\"]).json()\n",
    "endpoints"
   ]
  }
 ],
 "metadata": {
  "kernelspec": {
   "display_name": "Python 3 (ipykernel)",
   "language": "python",
   "name": "python3"
  },
  "language_info": {
   "codemirror_mode": {
    "name": "ipython",
    "version": 3
   },
   "file_extension": ".py",
   "mimetype": "text/x-python",
   "name": "python",
   "nbconvert_exporter": "python",
   "pygments_lexer": "ipython3",
   "version": "3.10.13"
  }
 },
 "nbformat": 4,
 "nbformat_minor": 5
}
